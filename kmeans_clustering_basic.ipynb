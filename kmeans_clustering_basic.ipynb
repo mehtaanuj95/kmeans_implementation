{
  "cells": [
    {
      "metadata": {
        "collapsed": true
      },
      "cell_type": "markdown",
      "source": "# Naive Imlementation of K-Means Clustering"
    },
    {
      "metadata": {},
      "cell_type": "markdown",
      "source": "**The K-means algorithm which i used:**\n1. Make `k` random centroids for the initial clusters.\n2. Assign data samples to the nearest centroid.\n3. Update centroids based on the above-assigned data samples.\n4. Repeat steps `2` and `3` until convergence."
    },
    {
      "metadata": {
        "trusted": true
      },
      "cell_type": "code",
      "source": "import matplotlib.pyplot as plt\nimport numpy as np\nfrom sklearn import datasets\nfrom copy import deepcopy",
      "execution_count": 12,
      "outputs": []
    },
    {
      "metadata": {
        "trusted": true
      },
      "cell_type": "code",
      "source": "# Use iris dataset\niris = datasets.load_iris()\n\n# load iris data\ndata = iris.data",
      "execution_count": 13,
      "outputs": []
    },
    {
      "metadata": {
        "trusted": true
      },
      "cell_type": "code",
      "source": "x = data[:,0]\ny = data[:,1]",
      "execution_count": 14,
      "outputs": []
    },
    {
      "metadata": {
        "trusted": true
      },
      "cell_type": "code",
      "source": "# Combining x and y into one.\ndata_set = np.array(list(zip(x, y)))",
      "execution_count": 15,
      "outputs": []
    },
    {
      "metadata": {
        "trusted": true
      },
      "cell_type": "code",
      "source": "# Number of clusters\nk = 3\n\n# x and y coordinates of centroids\ncentroids_x = np.random.uniform(min(x), max(x), size=k)\ncentroids_y = np.random.uniform(min(y), max(y), size=k)\n\n#Combining both into one variable\ncentroids = np.array(list(zip(centroids_x, centroids_y)))",
      "execution_count": 16,
      "outputs": []
    },
    {
      "metadata": {
        "trusted": true
      },
      "cell_type": "code",
      "source": "# function to calculate distance btw two points\ndef distance(a, b):\n    one = (a[0] - b[0]) ** 2\n    two = (a[1] - b[1]) ** 2\n    distance = (one + two) ** 0.5\n    return distance",
      "execution_count": 18,
      "outputs": []
    },
    {
      "metadata": {
        "trusted": true
      },
      "cell_type": "code",
      "source": "# To store the value of centroids when it updates\ncentroids_old = np.zeros(centroids.shape)\n\n# Cluster labeles (either 0, 1, or 2)\nlabels = np.zeros(len(data))\ndistances = np.zeros(3)\n\n# Initialize error\nerror = np.zeros(3)\nerror[0] = distance(centroids[0], centroids_old[0])\nerror[1] = distance(centroids[1], centroids_old[1])\nerror[2] = distance(centroids[2], centroids_old[2])",
      "execution_count": 22,
      "outputs": []
    },
    {
      "metadata": {
        "trusted": true
      },
      "cell_type": "code",
      "source": "while error.all() != 0:\n    # Assign samples to nearest centroids\n    for i in range(len(data)):\n        distances[0] = distance(data_set[i], centroids[0])\n        distances[1] = distance(data_set[i], centroids[1])\n        distances[2] = distance(data_set[i], centroids[2])\n        cluster = np.argmin(distances)\n        labels[i] = cluster\n    \n    # Update centroids\n    centroids_old = deepcopy(centroids)\n    for i in range(3):\n        points = [data_set[j] for j in range(len(data_set)) if labels[j] == i]\n        centroids[i] = np.mean(points, axis=0)\n    \n    # Calculate error\n    error[0] = distance(centroids[0], centroids_old[0])\n    error[1] = distance(centroids[1], centroids_old[1])\n    error[2] = distance(centroids[2], centroids_old[2])\n\n# Visualize data\ncolors = ['r', 'g', 'b']\nfor i in range(k):\n    points = np.array([data_set[j] for j in range(len(data)) if labels[j] == i])\n    plt.scatter(points[:, 0], points[:, 1], c=colors[i])\n\n# Visualize Centroids\nplt.scatter(centroids[:, 0], centroids[:, 1], marker='D', s=150)\n\nplt.xlabel('sepal length (cm)')\nplt.ylabel('petal length (cm)')\n\nplt.show()\n",
      "execution_count": 24,
      "outputs": [
        {
          "output_type": "display_data",
          "data": {
            "image/png": "[encoded data removed]",
            "text/plain": "<matplotlib.figure.Figure at 0x7f1b0b3ac6d8>"
          },
          "metadata": {}
        }
      ]
    },
    {
      "metadata": {
        "trusted": true
      },
      "cell_type": "code",
      "source": "",
      "execution_count": null,
      "outputs": []
    }
  ],
  "metadata": {
    "kernelspec": {
      "name": "python3",
      "display_name": "Python 3",
      "language": "python"
    },
    "language_info": {
      "mimetype": "text/x-python",
      "nbconvert_exporter": "python",
      "name": "python",
      "file_extension": ".py",
      "version": "3.5.4",
      "pygments_lexer": "ipython3",
      "codemirror_mode": {
        "version": 3,
        "name": "ipython"
      }
    }
  },
  "nbformat": 4,
  "nbformat_minor": 2
}